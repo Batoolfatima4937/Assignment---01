{
  "nbformat": 4,
  "nbformat_minor": 0,
  "metadata": {
    "colab": {
      "provenance": [],
      "authorship_tag": "ABX9TyP8yLagKKlM4C5Im2T9eP+h",
      "include_colab_link": true
    },
    "kernelspec": {
      "name": "python3",
      "display_name": "Python 3"
    },
    "language_info": {
      "name": "python"
    }
  },
  "cells": [
    {
      "cell_type": "markdown",
      "metadata": {
        "id": "view-in-github",
        "colab_type": "text"
      },
      "source": [
        "<a href=\"https://colab.research.google.com/github/Batoolfatima4937/Assignment---01/blob/main/customerservice.ipynb\" target=\"_parent\"><img src=\"https://colab.research.google.com/assets/colab-badge.svg\" alt=\"Open In Colab\"/></a>"
      ]
    },
    {
      "cell_type": "code",
      "execution_count": 1,
      "metadata": {
        "colab": {
          "base_uri": "https://localhost:8080/"
        },
        "id": "AJ56tJntoQf7",
        "outputId": "10fdb956-42da-4ce9-ae35-6d4ce0f74786"
      },
      "outputs": [
        {
          "output_type": "stream",
          "name": "stdout",
          "text": [
            "Requirement already satisfied: nltk in /usr/local/lib/python3.10/dist-packages (3.8.1)\n",
            "Requirement already satisfied: click in /usr/local/lib/python3.10/dist-packages (from nltk) (8.1.7)\n",
            "Requirement already satisfied: joblib in /usr/local/lib/python3.10/dist-packages (from nltk) (1.3.2)\n",
            "Requirement already satisfied: regex>=2021.8.3 in /usr/local/lib/python3.10/dist-packages (from nltk) (2023.12.25)\n",
            "Requirement already satisfied: tqdm in /usr/local/lib/python3.10/dist-packages (from nltk) (4.66.2)\n"
          ]
        }
      ],
      "source": [
        "pip install nltk"
      ]
    },
    {
      "cell_type": "code",
      "source": [
        "import nltk"
      ],
      "metadata": {
        "id": "xP2P39AfoVbh"
      },
      "execution_count": 2,
      "outputs": []
    },
    {
      "cell_type": "code",
      "source": [
        "nltk.download('punkt')"
      ],
      "metadata": {
        "colab": {
          "base_uri": "https://localhost:8080/"
        },
        "id": "Xu-cKp9Pok6Q",
        "outputId": "1c247875-26d3-4a24-bfcf-b93bd3a15852"
      },
      "execution_count": 3,
      "outputs": [
        {
          "output_type": "stream",
          "name": "stderr",
          "text": [
            "[nltk_data] Downloading package punkt to /root/nltk_data...\n",
            "[nltk_data]   Unzipping tokenizers/punkt.zip.\n"
          ]
        },
        {
          "output_type": "execute_result",
          "data": {
            "text/plain": [
              "True"
            ]
          },
          "metadata": {},
          "execution_count": 3
        }
      ]
    },
    {
      "cell_type": "code",
      "source": [
        "from nltk.tokenize import word_tokenize\n",
        "text='tata'"
      ],
      "metadata": {
        "id": "an8--9V9otoO"
      },
      "execution_count": 4,
      "outputs": []
    },
    {
      "cell_type": "code",
      "source": [
        "tokens=word_tokenize(text)"
      ],
      "metadata": {
        "id": "5rEhzOgQpH8Z"
      },
      "execution_count": 5,
      "outputs": []
    },
    {
      "cell_type": "code",
      "source": [
        "intents = {\n",
        "    'greeting':['salam','hello','hey'],\n",
        "    'goodbye':['bye','tata','goodbye','seeyou','okay'],\n",
        "    'question':['aik swal ha','question','i have a question','aik swal pocho'],\n",
        "    'feedbacks':['your product quality is very low','your product delivery is slow'],\n",
        "    'products':['you should change your product packaging'],\n",
        "}\n",
        "responses = {\n",
        "    'greeting' : 'how may i help you ',\n",
        "    'goodbye'  : 'thank you for contacting us,have a nice day',\n",
        "    'question' : 'pochlo bhai ma apka lia hazir hn',\n",
        "    'feedbacks' : 'sorry to hear that we will try our best to provide you quality product',\n",
        "    'products' : 'we will forward your message',\n",
        "}\n",
        "\n"
      ],
      "metadata": {
        "id": "w9HFoNs_pejh"
      },
      "execution_count": 6,
      "outputs": []
    },
    {
      "cell_type": "code",
      "source": [
        "train_data = []\n",
        "for intent,examples in intents.items():\n",
        "  for example in examples:\n",
        "    train_data.append((example,intent))"
      ],
      "metadata": {
        "id": "mYT2N7KqrX54"
      },
      "execution_count": 7,
      "outputs": []
    },
    {
      "cell_type": "code",
      "source": [
        "from nltk.classify import NaiveBayesClassifier\n",
        "from nltk.classify.util import accuracy\n",
        "\n",
        "def extract_features(text):\n",
        "  input_tokens = word_tokenize(text.lower())\n",
        "  return {word: word in input_tokens for word in input_tokens}\n",
        "\n",
        "\n",
        "training_features = [(extract_features(text),intent) for (text,intent) in train_data]\n",
        "classifier = NaiveBayesClassifier.train(training_features)\n",
        "print(\"Classifier Accuracy \" , accuracy(classifier,training_features))"
      ],
      "metadata": {
        "colab": {
          "base_uri": "https://localhost:8080/"
        },
        "id": "Mk1bKK5org06",
        "outputId": "5abe9a8b-0547-4dee-8795-f12e9544d5a9"
      },
      "execution_count": 10,
      "outputs": [
        {
          "output_type": "stream",
          "name": "stdout",
          "text": [
            "Classifier Accuracy  1.0\n"
          ]
        }
      ]
    },
    {
      "cell_type": "code",
      "source": [
        "def get_bot_response(user_input):\n",
        "  features=extract_features(user_input)\n",
        "  intent = classifier.classify(features)\n",
        "  return responses.get(intent)"
      ],
      "metadata": {
        "id": "N-UfXxirrlAX"
      },
      "execution_count": 11,
      "outputs": []
    },
    {
      "cell_type": "code",
      "source": [
        "while True:\n",
        "  userinputs = input(\"customer : \")\n",
        "  if userinputs.lower() == 'exit':\n",
        "    break\n",
        "  bot_response=get_bot_response(userinputs)\n",
        "  print(\"service : \", bot_response)"
      ],
      "metadata": {
        "colab": {
          "base_uri": "https://localhost:8080/"
        },
        "id": "GQKAYQmLrpUt",
        "outputId": "084be5a9-3507-4253-9573-7708ea7f4978"
      },
      "execution_count": null,
      "outputs": [
        {
          "output_type": "stream",
          "name": "stdout",
          "text": [
            "customer : hello\n",
            "service :  how may i help you \n",
            "customer : your product quality is very low\n",
            "service :  sorry to hear that we will try our best to provide you quality product\n",
            "customer : okay\n",
            "service :  thank you for contacting us,have a nice day\n"
          ]
        }
      ]
    }
  ]
}